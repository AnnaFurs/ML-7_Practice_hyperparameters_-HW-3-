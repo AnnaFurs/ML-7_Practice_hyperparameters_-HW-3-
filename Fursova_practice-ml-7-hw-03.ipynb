{
 "cells": [
  {
   "attachments": {},
   "cell_type": "markdown",
   "id": "9cfafb0f",
   "metadata": {
    "papermill": {
     "duration": 0.010423,
     "end_time": "2023-06-17T13:27:09.855246",
     "exception": false,
     "start_time": "2023-06-17T13:27:09.844823",
     "status": "completed"
    },
    "tags": []
   },
   "source": [
    "## ML-7. ПРОГНОЗИРОВАНИЕ БИОЛОГИЧЕСКОГО ОТВЕТА (HW-3)  "
   ]
  },
  {
   "attachments": {},
   "cell_type": "markdown",
   "id": "35def332",
   "metadata": {
    "papermill": {
     "duration": 0.009495,
     "end_time": "2023-06-17T13:27:09.874629",
     "exception": false,
     "start_time": "2023-06-17T13:27:09.865134",
     "status": "completed"
    },
    "tags": []
   },
   "source": [
    "Описание домашнего задания:\n",
    "\n",
    "Задание основано на соревновании Kaggle: Predicting a Biological Response (Прогнозирование биологического ответа). Необходимо обучить две модели: логистическую регрессию и случайный лес. Далее нужно сделать подбор гиперпараметров с помощью базовых и продвинутых методов оптимизации. Важно использовать все четыре метода (GridSeachCV, RandomizedSearchCV, Hyperopt, Optuna) хотя бы по разу, максимальное количество итераций не должно превышать 50.\n",
    "\n",
    "В качестве метрики будем использовать F1-score. Предварительная обработка не требуется, данные уже закодированы и нормализованы."
   ]
  },
  {
   "cell_type": "code",
   "execution_count": 1,
   "id": "7bedd73e",
   "metadata": {
    "execution": {
     "iopub.execute_input": "2023-06-17T13:27:09.936935Z",
     "iopub.status.busy": "2023-06-17T13:27:09.936563Z",
     "iopub.status.idle": "2023-06-17T13:27:13.825565Z",
     "shell.execute_reply": "2023-06-17T13:27:13.824254Z"
    },
    "papermill": {
     "duration": 3.902751,
     "end_time": "2023-06-17T13:27:13.828076",
     "exception": false,
     "start_time": "2023-06-17T13:27:09.925325",
     "status": "completed"
    },
    "tags": []
   },
   "outputs": [
    {
     "name": "stderr",
     "output_type": "stream",
     "text": [
      "C:\\Users\\uplot\\AppData\\Local\\Temp\\ipykernel_11000\\1319609883.py:7: MatplotlibDeprecationWarning: The seaborn styles shipped by Matplotlib are deprecated since 3.6, as they no longer correspond to the styles shipped by seaborn. However, they will remain available as 'seaborn-v0_8-<style>'. Alternatively, directly use the seaborn API instead.\n",
      "  plt.style.use('seaborn')\n"
     ]
    }
   ],
   "source": [
    "#импорт библиотек\n",
    "import numpy as np #для матричных вычислений\n",
    "import pandas as pd #для анализа и предобработки данных\n",
    "import matplotlib.pyplot as plt #для визуализации\n",
    "%matplotlib inline\n",
    "import seaborn as sns #для визуализации\n",
    "plt.style.use('seaborn')\n",
    "\n",
    "from sklearn import linear_model #линейные моделиё\n",
    "from sklearn import tree #деревья решений\n",
    "from sklearn import ensemble #ансамбли\n",
    "from sklearn import metrics #метрики\n",
    "from sklearn import preprocessing #предобработка\n",
    "from sklearn.model_selection import train_test_split #сплитование выборки\n",
    "\n",
    "from sklearn.model_selection import GridSearchCV\n",
    "from sklearn.model_selection import RandomizedSearchCV\n",
    "from sklearn.model_selection import cross_val_score\n",
    "import hyperopt\n",
    "from hyperopt import hp, fmin, tpe, Trials\n",
    "import optuna\n",
    "\n",
    "import warnings # скрытие сообщений об ошибках при обработке ответов\n",
    "warnings.filterwarnings('ignore') # игнорируем предупреждения\n"
   ]
  },
  {
   "attachments": {},
   "cell_type": "markdown",
   "id": "fcca68fc",
   "metadata": {
    "papermill": {
     "duration": 0.010047,
     "end_time": "2023-06-17T13:27:13.848330",
     "exception": false,
     "start_time": "2023-06-17T13:27:13.838283",
     "status": "completed"
    },
    "tags": []
   },
   "source": [
    "### Загрузка данных, знакомство с данными"
   ]
  },
  {
   "cell_type": "code",
   "execution_count": 2,
   "id": "96aba5b7",
   "metadata": {
    "execution": {
     "iopub.execute_input": "2023-06-17T13:27:13.871426Z",
     "iopub.status.busy": "2023-06-17T13:27:13.870136Z",
     "iopub.status.idle": "2023-06-17T13:27:14.817297Z",
     "shell.execute_reply": "2023-06-17T13:27:14.815763Z"
    },
    "papermill": {
     "duration": 0.960767,
     "end_time": "2023-06-17T13:27:14.819371",
     "exception": true,
     "start_time": "2023-06-17T13:27:13.858604",
     "status": "failed"
    },
    "tags": []
   },
   "outputs": [
    {
     "data": {
      "text/html": [
       "<div>\n",
       "<style scoped>\n",
       "    .dataframe tbody tr th:only-of-type {\n",
       "        vertical-align: middle;\n",
       "    }\n",
       "\n",
       "    .dataframe tbody tr th {\n",
       "        vertical-align: top;\n",
       "    }\n",
       "\n",
       "    .dataframe thead th {\n",
       "        text-align: right;\n",
       "    }\n",
       "</style>\n",
       "<table border=\"1\" class=\"dataframe\">\n",
       "  <thead>\n",
       "    <tr style=\"text-align: right;\">\n",
       "      <th></th>\n",
       "      <th>Activity</th>\n",
       "      <th>D1</th>\n",
       "      <th>D2</th>\n",
       "      <th>D3</th>\n",
       "      <th>D4</th>\n",
       "      <th>D5</th>\n",
       "      <th>D6</th>\n",
       "      <th>D7</th>\n",
       "      <th>D8</th>\n",
       "      <th>D9</th>\n",
       "      <th>...</th>\n",
       "      <th>D1767</th>\n",
       "      <th>D1768</th>\n",
       "      <th>D1769</th>\n",
       "      <th>D1770</th>\n",
       "      <th>D1771</th>\n",
       "      <th>D1772</th>\n",
       "      <th>D1773</th>\n",
       "      <th>D1774</th>\n",
       "      <th>D1775</th>\n",
       "      <th>D1776</th>\n",
       "    </tr>\n",
       "  </thead>\n",
       "  <tbody>\n",
       "    <tr>\n",
       "      <th>0</th>\n",
       "      <td>1</td>\n",
       "      <td>0.000000</td>\n",
       "      <td>0.497009</td>\n",
       "      <td>0.10</td>\n",
       "      <td>0.0</td>\n",
       "      <td>0.132956</td>\n",
       "      <td>0.678031</td>\n",
       "      <td>0.273166</td>\n",
       "      <td>0.585445</td>\n",
       "      <td>0.743663</td>\n",
       "      <td>...</td>\n",
       "      <td>0</td>\n",
       "      <td>0</td>\n",
       "      <td>0</td>\n",
       "      <td>0</td>\n",
       "      <td>0</td>\n",
       "      <td>0</td>\n",
       "      <td>0</td>\n",
       "      <td>0</td>\n",
       "      <td>0</td>\n",
       "      <td>0</td>\n",
       "    </tr>\n",
       "    <tr>\n",
       "      <th>1</th>\n",
       "      <td>1</td>\n",
       "      <td>0.366667</td>\n",
       "      <td>0.606291</td>\n",
       "      <td>0.05</td>\n",
       "      <td>0.0</td>\n",
       "      <td>0.111209</td>\n",
       "      <td>0.803455</td>\n",
       "      <td>0.106105</td>\n",
       "      <td>0.411754</td>\n",
       "      <td>0.836582</td>\n",
       "      <td>...</td>\n",
       "      <td>1</td>\n",
       "      <td>1</td>\n",
       "      <td>1</td>\n",
       "      <td>1</td>\n",
       "      <td>0</td>\n",
       "      <td>1</td>\n",
       "      <td>0</td>\n",
       "      <td>0</td>\n",
       "      <td>1</td>\n",
       "      <td>0</td>\n",
       "    </tr>\n",
       "    <tr>\n",
       "      <th>2</th>\n",
       "      <td>1</td>\n",
       "      <td>0.033300</td>\n",
       "      <td>0.480124</td>\n",
       "      <td>0.00</td>\n",
       "      <td>0.0</td>\n",
       "      <td>0.209791</td>\n",
       "      <td>0.610350</td>\n",
       "      <td>0.356453</td>\n",
       "      <td>0.517720</td>\n",
       "      <td>0.679051</td>\n",
       "      <td>...</td>\n",
       "      <td>0</td>\n",
       "      <td>0</td>\n",
       "      <td>0</td>\n",
       "      <td>0</td>\n",
       "      <td>0</td>\n",
       "      <td>0</td>\n",
       "      <td>0</td>\n",
       "      <td>0</td>\n",
       "      <td>0</td>\n",
       "      <td>0</td>\n",
       "    </tr>\n",
       "    <tr>\n",
       "      <th>3</th>\n",
       "      <td>1</td>\n",
       "      <td>0.000000</td>\n",
       "      <td>0.538825</td>\n",
       "      <td>0.00</td>\n",
       "      <td>0.5</td>\n",
       "      <td>0.196344</td>\n",
       "      <td>0.724230</td>\n",
       "      <td>0.235606</td>\n",
       "      <td>0.288764</td>\n",
       "      <td>0.805110</td>\n",
       "      <td>...</td>\n",
       "      <td>0</td>\n",
       "      <td>0</td>\n",
       "      <td>0</td>\n",
       "      <td>0</td>\n",
       "      <td>0</td>\n",
       "      <td>0</td>\n",
       "      <td>0</td>\n",
       "      <td>0</td>\n",
       "      <td>0</td>\n",
       "      <td>0</td>\n",
       "    </tr>\n",
       "    <tr>\n",
       "      <th>4</th>\n",
       "      <td>0</td>\n",
       "      <td>0.100000</td>\n",
       "      <td>0.517794</td>\n",
       "      <td>0.00</td>\n",
       "      <td>0.0</td>\n",
       "      <td>0.494734</td>\n",
       "      <td>0.781422</td>\n",
       "      <td>0.154361</td>\n",
       "      <td>0.303809</td>\n",
       "      <td>0.812646</td>\n",
       "      <td>...</td>\n",
       "      <td>0</td>\n",
       "      <td>0</td>\n",
       "      <td>0</td>\n",
       "      <td>0</td>\n",
       "      <td>0</td>\n",
       "      <td>0</td>\n",
       "      <td>0</td>\n",
       "      <td>0</td>\n",
       "      <td>0</td>\n",
       "      <td>0</td>\n",
       "    </tr>\n",
       "  </tbody>\n",
       "</table>\n",
       "<p>5 rows × 1777 columns</p>\n",
       "</div>"
      ],
      "text/plain": [
       "   Activity        D1        D2    D3   D4        D5        D6        D7  \\\n",
       "0         1  0.000000  0.497009  0.10  0.0  0.132956  0.678031  0.273166   \n",
       "1         1  0.366667  0.606291  0.05  0.0  0.111209  0.803455  0.106105   \n",
       "2         1  0.033300  0.480124  0.00  0.0  0.209791  0.610350  0.356453   \n",
       "3         1  0.000000  0.538825  0.00  0.5  0.196344  0.724230  0.235606   \n",
       "4         0  0.100000  0.517794  0.00  0.0  0.494734  0.781422  0.154361   \n",
       "\n",
       "         D8        D9  ...  D1767  D1768  D1769  D1770  D1771  D1772  D1773  \\\n",
       "0  0.585445  0.743663  ...      0      0      0      0      0      0      0   \n",
       "1  0.411754  0.836582  ...      1      1      1      1      0      1      0   \n",
       "2  0.517720  0.679051  ...      0      0      0      0      0      0      0   \n",
       "3  0.288764  0.805110  ...      0      0      0      0      0      0      0   \n",
       "4  0.303809  0.812646  ...      0      0      0      0      0      0      0   \n",
       "\n",
       "   D1774  D1775  D1776  \n",
       "0      0      0      0  \n",
       "1      0      1      0  \n",
       "2      0      0      0  \n",
       "3      0      0      0  \n",
       "4      0      0      0  \n",
       "\n",
       "[5 rows x 1777 columns]"
      ]
     },
     "execution_count": 2,
     "metadata": {},
     "output_type": "execute_result"
    }
   ],
   "source": [
    "data = pd.read_csv('data\\_train_sem09 (1).csv')\n",
    "data.head()"
   ]
  },
  {
   "cell_type": "code",
   "execution_count": 3,
   "id": "a8df3b95",
   "metadata": {},
   "outputs": [
    {
     "data": {
      "text/html": [
       "<div>\n",
       "<style scoped>\n",
       "    .dataframe tbody tr th:only-of-type {\n",
       "        vertical-align: middle;\n",
       "    }\n",
       "\n",
       "    .dataframe tbody tr th {\n",
       "        vertical-align: top;\n",
       "    }\n",
       "\n",
       "    .dataframe thead th {\n",
       "        text-align: right;\n",
       "    }\n",
       "</style>\n",
       "<table border=\"1\" class=\"dataframe\">\n",
       "  <thead>\n",
       "    <tr style=\"text-align: right;\">\n",
       "      <th></th>\n",
       "      <th>Activity</th>\n",
       "      <th>D1</th>\n",
       "      <th>D2</th>\n",
       "      <th>D3</th>\n",
       "      <th>D4</th>\n",
       "      <th>D5</th>\n",
       "      <th>D6</th>\n",
       "      <th>D7</th>\n",
       "      <th>D8</th>\n",
       "      <th>D9</th>\n",
       "      <th>...</th>\n",
       "      <th>D1767</th>\n",
       "      <th>D1768</th>\n",
       "      <th>D1769</th>\n",
       "      <th>D1770</th>\n",
       "      <th>D1771</th>\n",
       "      <th>D1772</th>\n",
       "      <th>D1773</th>\n",
       "      <th>D1774</th>\n",
       "      <th>D1775</th>\n",
       "      <th>D1776</th>\n",
       "    </tr>\n",
       "  </thead>\n",
       "  <tbody>\n",
       "  </tbody>\n",
       "</table>\n",
       "<p>0 rows × 1777 columns</p>\n",
       "</div>"
      ],
      "text/plain": [
       "Empty DataFrame\n",
       "Columns: [Activity, D1, D2, D3, D4, D5, D6, D7, D8, D9, D10, D11, D12, D13, D14, D15, D16, D17, D18, D19, D20, D21, D22, D23, D24, D25, D26, D27, D28, D29, D30, D31, D32, D33, D34, D35, D36, D37, D38, D39, D40, D41, D42, D43, D44, D45, D46, D47, D48, D49, D50, D51, D52, D53, D54, D55, D56, D57, D58, D59, D60, D61, D62, D63, D64, D65, D66, D67, D68, D69, D70, D71, D72, D73, D74, D75, D76, D77, D78, D79, D80, D81, D82, D83, D84, D85, D86, D87, D88, D89, D90, D91, D92, D93, D94, D95, D96, D97, D98, D99, ...]\n",
       "Index: []\n",
       "\n",
       "[0 rows x 1777 columns]"
      ]
     },
     "execution_count": 3,
     "metadata": {},
     "output_type": "execute_result"
    }
   ],
   "source": [
    "# проверяем наличие пропусков\n",
    "data[data.isnull().any(axis=1)]"
   ]
  },
  {
   "cell_type": "code",
   "execution_count": 4,
   "id": "5998d7a1",
   "metadata": {
    "papermill": {
     "duration": null,
     "end_time": null,
     "exception": null,
     "start_time": null,
     "status": "pending"
    },
    "tags": []
   },
   "outputs": [
    {
     "data": {
      "image/png": "[encoded data removed]",
      "text/plain": [
       "<Figure size 800x550 with 1 Axes>"
      ]
     },
     "metadata": {},
     "output_type": "display_data"
    }
   ],
   "source": [
    "#Проверяем сбалансированность ключевого признака\n",
    "sns.countplot(data=data, x='Activity');"
   ]
  },
  {
   "attachments": {},
   "cell_type": "markdown",
   "id": "18cf9d36",
   "metadata": {
    "papermill": {
     "duration": null,
     "end_time": null,
     "exception": null,
     "start_time": null,
     "status": "pending"
    },
    "tags": []
   },
   "source": [
    "### Решение задачи\n",
    "\n",
    "* Набор данных относительно сбалансированный. Разделим данные в соотношении 80/20 на тренировочную и тестовую выборки, используя стратификацию.\n",
    "\n",
    "* Тестовую выборку будем использовать для оценки качества обученной модели. При настройке гиперпараметров модель видеть тестовые данные не будет."
   ]
  },
  {
   "cell_type": "code",
   "execution_count": 5,
   "id": "7aeb5f9d",
   "metadata": {
    "papermill": {
     "duration": null,
     "end_time": null,
     "exception": null,
     "start_time": null,
     "status": "pending"
    },
    "tags": []
   },
   "outputs": [],
   "source": [
    "X = data.drop('Activity', axis=1) # матрица наблюдений\n",
    "y = data['Activity'] # вектор ответов"
   ]
  },
  {
   "cell_type": "code",
   "execution_count": 6,
   "id": "0c2ec2d7",
   "metadata": {
    "papermill": {
     "duration": null,
     "end_time": null,
     "exception": null,
     "start_time": null,
     "status": "pending"
    },
    "tags": []
   },
   "outputs": [
    {
     "name": "stdout",
     "output_type": "stream",
     "text": [
      "(3000, 1776) (751, 1776) (3000,) (751,)\n"
     ]
    }
   ],
   "source": [
    "# разделяем выборку на тренировочную и тестовую в соотношении 80/20,\n",
    "# используем параметр stratify (стратифицированное разбиение)\n",
    "X_train, X_test, y_train, y_test = train_test_split(\n",
    "    X, y, \n",
    "    stratify=y, \n",
    "    random_state=42, \n",
    "    test_size=0.2\n",
    ")\n",
    "print(X_train.shape, X_test.shape, y_train.shape, y_test.shape)"
   ]
  },
  {
   "attachments": {},
   "cell_type": "markdown",
   "id": "3c0e7606",
   "metadata": {
    "papermill": {
     "duration": null,
     "end_time": null,
     "exception": null,
     "start_time": null,
     "status": "pending"
    },
    "tags": []
   },
   "source": [
    "# <center> Простая модель базовая оптимизация"
   ]
  },
  {
   "attachments": {},
   "cell_type": "markdown",
   "id": "8e67ff61",
   "metadata": {
    "papermill": {
     "duration": null,
     "end_time": null,
     "exception": null,
     "start_time": null,
     "status": "pending"
    },
    "tags": []
   },
   "source": [
    "### Логистическая регрессия  "
   ]
  },
  {
   "cell_type": "code",
   "execution_count": 7,
   "id": "021fce11",
   "metadata": {
    "papermill": {
     "duration": null,
     "end_time": null,
     "exception": null,
     "start_time": null,
     "status": "pending"
    },
    "tags": []
   },
   "outputs": [
    {
     "name": "stdout",
     "output_type": "stream",
     "text": [
      "f1_score на тренировочном наборе: 0.88\n",
      "f1_score на тестовом наборе: 0.78\n"
     ]
    }
   ],
   "source": [
    "#Создаем объект класса логистическая регрессия\n",
    "log_reg = linear_model.LogisticRegression(max_iter = 50, random_state=42)\n",
    "#Обучаем модель, минимизируя logloss\n",
    "log_reg.fit(X_train, y_train)\n",
    "\n",
    "y_train_pred = log_reg.predict(X_train)\n",
    "print('f1_score на тренировочном наборе: {:.2f}'.format(metrics.f1_score(y_train_pred, y_train)))\n",
    "\n",
    "y_test_pred = log_reg.predict(X_test)\n",
    "print('f1_score на тестовом наборе: {:.2f}'.format(metrics.f1_score(y_test_pred, y_test)))"
   ]
  },
  {
   "attachments": {},
   "cell_type": "markdown",
   "id": "e0e00fdf",
   "metadata": {
    "papermill": {
     "duration": null,
     "end_time": null,
     "exception": null,
     "start_time": null,
     "status": "pending"
    },
    "tags": []
   },
   "source": [
    "### Случайный лес"
   ]
  },
  {
   "cell_type": "code",
   "execution_count": 8,
   "id": "19424e98",
   "metadata": {
    "papermill": {
     "duration": null,
     "end_time": null,
     "exception": null,
     "start_time": null,
     "status": "pending"
    },
    "tags": []
   },
   "outputs": [
    {
     "name": "stdout",
     "output_type": "stream",
     "text": [
      "f1_score на тренировочном наборе: 0.81\n",
      "f1_score на тестовом наборе: 0.74\n"
     ]
    }
   ],
   "source": [
    "#Создаем объект класса случайный лес\n",
    "forest = ensemble.RandomForestClassifier(\n",
    "    n_estimators=100,\n",
    "    criterion='entropy',\n",
    "    max_depth=5,\n",
    "    random_state=42\n",
    ")\n",
    "\n",
    "#Обучаем модель\n",
    "forest.fit(X_train, y_train)\n",
    "\n",
    "#Выводим значения метрики \n",
    "y_train_pred = forest.predict(X_train)\n",
    "print('f1_score на тренировочном наборе: {:.2f}'.format(metrics.f1_score(y_train, y_train_pred)))\n",
    "y_test_pred = forest.predict(X_test)\n",
    "print('f1_score на тестовом наборе: {:.2f}'.format(metrics.f1_score(y_test, y_test_pred)))"
   ]
  },
  {
   "attachments": {},
   "cell_type": "markdown",
   "id": "6b22ad1a",
   "metadata": {
    "papermill": {
     "duration": null,
     "end_time": null,
     "exception": null,
     "start_time": null,
     "status": "pending"
    },
    "tags": []
   },
   "source": [
    "Промежуточный вывод: Значения метрики f1_score на тестовом наборе базовой оптимизации у логистической регрессии лучше (0.78), чем у случайного леса (0.74)."
   ]
  },
  {
   "attachments": {},
   "cell_type": "markdown",
   "id": "b539ae48",
   "metadata": {
    "papermill": {
     "duration": null,
     "end_time": null,
     "exception": null,
     "start_time": null,
     "status": "pending"
    },
    "tags": []
   },
   "source": [
    "## <center> GridSearchCV"
   ]
  },
  {
   "attachments": {},
   "cell_type": "markdown",
   "id": "2590344d",
   "metadata": {
    "papermill": {
     "duration": null,
     "end_time": null,
     "exception": null,
     "start_time": null,
     "status": "pending"
    },
    "tags": []
   },
   "source": [
    "Указываем искомые гиперпараметры в виде словаря: ключами словаря являются имена настраиваемых гиперпараметров, а значениями – тестируемые настройки гиперпараметров, и передаем модель (LogisticRegression), сетку искомых параметров (param_grid), а также число фолдов, которые мы хотим использовать в кросс-валидации (пятиблочную кросс-валидацию, cv=5) и n_jobs = -1, чтобы использовать все доступные ядра для расчетов.\n",
    "\n",
    "GridSearchCV включает в себя поиск лучших параметров и автоматическое построение новой модели на всем обучающем наборе данных, используя параметры с наилучшими значениями точности при кросс-валидации."
   ]
  },
  {
   "attachments": {},
   "cell_type": "markdown",
   "id": "2261b8cd",
   "metadata": {
    "papermill": {
     "duration": null,
     "end_time": null,
     "exception": null,
     "start_time": null,
     "status": "pending"
    },
    "tags": []
   },
   "source": [
    "### Логистическая регрессия "
   ]
  },
  {
   "cell_type": "code",
   "execution_count": 9,
   "id": "3ab350b0",
   "metadata": {
    "papermill": {
     "duration": null,
     "end_time": null,
     "exception": null,
     "start_time": null,
     "status": "pending"
    },
    "tags": []
   },
   "outputs": [
    {
     "name": "stdout",
     "output_type": "stream",
     "text": [
      "CPU times: total: 7.39 s\n",
      "Wall time: 39.5 s\n",
      "f1_score на тестовом наборе: 0.78\n",
      "Наилучшие значения гиперпараметров: {'penalty': 'l2', 'solver': 'saga'}\n"
     ]
    }
   ],
   "source": [
    "param_grid = {'penalty': ['l2', 'none'] ,#тип регурялизации\n",
    "              'solver': ['lbfgs', 'saga'], #алгоритм оптимизации\n",
    "              }\n",
    "grid_search = GridSearchCV(\n",
    "    estimator=linear_model.LogisticRegression(\n",
    "        random_state=42, #генератор случайных чисел\n",
    "        max_iter=50 #количество итераций на сходимость\n",
    "    ), \n",
    "    param_grid=param_grid, \n",
    "    cv=5, \n",
    "    n_jobs = -1\n",
    ")  \n",
    "%time grid_search.fit(X_train, y_train) \n",
    "y_test_pred = grid_search.predict(X_test)\n",
    "print('f1_score на тестовом наборе: {:.2f}'.format(metrics.f1_score(y_test, y_test_pred)))\n",
    "print(\"Наилучшие значения гиперпараметров: {}\".format(grid_search.best_params_))"
   ]
  },
  {
   "attachments": {},
   "cell_type": "markdown",
   "id": "b0142c56",
   "metadata": {},
   "source": [
    "Значения метрики f1_score на тестовом наборе не улучшились (0.78), расширяем сетку гиперпараметров"
   ]
  },
  {
   "cell_type": "code",
   "execution_count": 10,
   "id": "4f818262",
   "metadata": {
    "papermill": {
     "duration": null,
     "end_time": null,
     "exception": null,
     "start_time": null,
     "status": "pending"
    },
    "tags": []
   },
   "outputs": [
    {
     "name": "stdout",
     "output_type": "stream",
     "text": [
      "CPU times: total: 10.7 s\n",
      "Wall time: 7min 21s\n",
      "f1_score на тестовом наборе: 0.79\n",
      "Наилучшие значения гиперпараметров: {'C': 0.3, 'penalty': 'l1', 'solver': 'saga'}\n"
     ]
    }
   ],
   "source": [
    "param_grid = [{'penalty': ['l2', 'none'] , # тип регуляризации\n",
    "              'solver': ['lbfgs', 'sag'], # алгоритм оптимизации\n",
    "              'C': [0.01, 0.1, 0.3, 0.5, 0.7, 0.9, 1]}, # уровень силы регурялизации\n",
    "              {'penalty': ['l1', 'l2'] ,\n",
    "              'solver': ['liblinear', 'saga'],\n",
    "              'C': [0.01, 0.1, 0.3, 0.5, 0.7, 0.9, 1]}\n",
    "]\n",
    "grid_search_1 = GridSearchCV(\n",
    "    estimator=linear_model.LogisticRegression(random_state=1, max_iter=50), \n",
    "    param_grid=param_grid, \n",
    "    cv=5, \n",
    "    n_jobs = -1\n",
    ")  \n",
    "%time grid_search_1.fit(X_train, y_train) \n",
    "y_test_pred = grid_search_1.predict(X_test)\n",
    "print('f1_score на тестовом наборе: {:.2f}'.format(metrics.f1_score(y_test, y_test_pred)))\n",
    "print(\"Наилучшие значения гиперпараметров: {}\".format(grid_search_1.best_params_))"
   ]
  },
  {
   "cell_type": "code",
   "execution_count": 93,
   "id": "b8ad1bc7",
   "metadata": {
    "papermill": {
     "duration": null,
     "end_time": null,
     "exception": null,
     "start_time": null,
     "status": "pending"
    },
    "tags": []
   },
   "outputs": [
    {
     "name": "stdout",
     "output_type": "stream",
     "text": [
      "Наилучшее значение метрики при кросс-валидаци: 0.76\n"
     ]
    }
   ],
   "source": [
    "print(\"Наилучшее значение метрики при кросс-валидаци: {:.2f}\".format(grid_search.best_score_))"
   ]
  },
  {
   "cell_type": "code",
   "execution_count": 16,
   "id": "6a90bee6",
   "metadata": {
    "papermill": {
     "duration": null,
     "end_time": null,
     "exception": null,
     "start_time": null,
     "status": "pending"
    },
    "tags": []
   },
   "outputs": [
    {
     "data": {
      "text/html": [
       "<div>\n",
       "<style scoped>\n",
       "    .dataframe tbody tr th:only-of-type {\n",
       "        vertical-align: middle;\n",
       "    }\n",
       "\n",
       "    .dataframe tbody tr th {\n",
       "        vertical-align: top;\n",
       "    }\n",
       "\n",
       "    .dataframe thead th {\n",
       "        text-align: right;\n",
       "    }\n",
       "</style>\n",
       "<table border=\"1\" class=\"dataframe\">\n",
       "  <thead>\n",
       "    <tr style=\"text-align: right;\">\n",
       "      <th></th>\n",
       "      <th>mean_fit_time</th>\n",
       "      <th>std_fit_time</th>\n",
       "      <th>mean_score_time</th>\n",
       "      <th>std_score_time</th>\n",
       "      <th>param_C</th>\n",
       "      <th>param_penalty</th>\n",
       "      <th>param_solver</th>\n",
       "      <th>params</th>\n",
       "      <th>split0_test_score</th>\n",
       "      <th>split1_test_score</th>\n",
       "      <th>split2_test_score</th>\n",
       "      <th>split3_test_score</th>\n",
       "      <th>split4_test_score</th>\n",
       "      <th>mean_test_score</th>\n",
       "      <th>std_test_score</th>\n",
       "      <th>rank_test_score</th>\n",
       "    </tr>\n",
       "  </thead>\n",
       "  <tbody>\n",
       "    <tr>\n",
       "      <th>0</th>\n",
       "      <td>1.835962</td>\n",
       "      <td>0.453781</td>\n",
       "      <td>0.053191</td>\n",
       "      <td>0.006536</td>\n",
       "      <td>0.01</td>\n",
       "      <td>l2</td>\n",
       "      <td>lbfgs</td>\n",
       "      <td>{'C': 0.01, 'penalty': 'l2', 'solver': 'lbfgs'}</td>\n",
       "      <td>0.793333</td>\n",
       "      <td>0.776667</td>\n",
       "      <td>0.736667</td>\n",
       "      <td>0.765</td>\n",
       "      <td>0.74</td>\n",
       "      <td>0.762333</td>\n",
       "      <td>0.021592</td>\n",
       "      <td>5</td>\n",
       "    </tr>\n",
       "    <tr>\n",
       "      <th>1</th>\n",
       "      <td>6.329736</td>\n",
       "      <td>0.084327</td>\n",
       "      <td>0.048964</td>\n",
       "      <td>0.011008</td>\n",
       "      <td>0.01</td>\n",
       "      <td>l2</td>\n",
       "      <td>sag</td>\n",
       "      <td>{'C': 0.01, 'penalty': 'l2', 'solver': 'sag'}</td>\n",
       "      <td>0.795000</td>\n",
       "      <td>0.776667</td>\n",
       "      <td>0.736667</td>\n",
       "      <td>0.765</td>\n",
       "      <td>0.74</td>\n",
       "      <td>0.762667</td>\n",
       "      <td>0.022076</td>\n",
       "      <td>4</td>\n",
       "    </tr>\n",
       "  </tbody>\n",
       "</table>\n",
       "</div>"
      ],
      "text/plain": [
       "   mean_fit_time  std_fit_time  mean_score_time  std_score_time param_C  \\\n",
       "0       1.835962      0.453781         0.053191        0.006536    0.01   \n",
       "1       6.329736      0.084327         0.048964        0.011008    0.01   \n",
       "\n",
       "  param_penalty param_solver                                           params  \\\n",
       "0            l2        lbfgs  {'C': 0.01, 'penalty': 'l2', 'solver': 'lbfgs'}   \n",
       "1            l2          sag    {'C': 0.01, 'penalty': 'l2', 'solver': 'sag'}   \n",
       "\n",
       "   split0_test_score  split1_test_score  split2_test_score  split3_test_score  \\\n",
       "0           0.793333           0.776667           0.736667              0.765   \n",
       "1           0.795000           0.776667           0.736667              0.765   \n",
       "\n",
       "   split4_test_score  mean_test_score  std_test_score  rank_test_score  \n",
       "0               0.74         0.762333        0.021592                5  \n",
       "1               0.74         0.762667        0.022076                4  "
      ]
     },
     "execution_count": 16,
     "metadata": {},
     "output_type": "execute_result"
    }
   ],
   "source": [
    "# результаты кросс-валидации\n",
    "result_cv = pd.DataFrame(grid_search_1.cv_results_)\n",
    "result_cv.head(2)"
   ]
  },
  {
   "attachments": {},
   "cell_type": "markdown",
   "id": "e2014153",
   "metadata": {
    "papermill": {
     "duration": null,
     "end_time": null,
     "exception": null,
     "start_time": null,
     "status": "pending"
    },
    "tags": []
   },
   "source": [
    "Метрика улучшилась незначительно (0,79), хотя время потратили гораздо больше.\n",
    "\n",
    "Поиск по сетке не гарантирует, что мы найдем наилучшую комбинацию гиперпараметров, потому что сетка значений конечна и наилучшее значение может оказаться между заданными нами значениями."
   ]
  },
  {
   "attachments": {},
   "cell_type": "markdown",
   "id": "bda36e39",
   "metadata": {
    "papermill": {
     "duration": null,
     "end_time": null,
     "exception": null,
     "start_time": null,
     "status": "pending"
    },
    "tags": []
   },
   "source": [
    "### Случайный лес"
   ]
  },
  {
   "cell_type": "code",
   "execution_count": 11,
   "id": "5450f568",
   "metadata": {
    "papermill": {
     "duration": null,
     "end_time": null,
     "exception": null,
     "start_time": null,
     "status": "pending"
    },
    "tags": []
   },
   "outputs": [
    {
     "name": "stdout",
     "output_type": "stream",
     "text": [
      "CPU times: total: 5.7 s\n",
      "Wall time: 2min 39s\n",
      "f1_score на тестовом наборе: 0.80\n",
      "Наилучшие значения гиперпараметров: {'max_depth': 20, 'min_samples_leaf': 5, 'n_estimators': 140}\n"
     ]
    }
   ],
   "source": [
    "param_grid = {'n_estimators': list(range(80, 200, 30)),\n",
    "            'min_samples_leaf': [5],\n",
    "            'max_depth': list(np.linspace(20, 40, 5, dtype=int))\n",
    "            }\n",
    "            \n",
    "grid_search_forest = GridSearchCV(\n",
    "    estimator=ensemble.RandomForestClassifier(random_state=42), \n",
    "    param_grid=param_grid, \n",
    "    cv=5, \n",
    "    n_jobs = -1\n",
    ")  \n",
    "%time grid_search_forest.fit(X_train, y_train) \n",
    "y_train_pred = grid_search_forest.predict(X_train)\n",
    "y_test_pred = grid_search_forest.predict(X_test)\n",
    "print('f1_score на тестовом наборе: {:.2f}'.format(metrics.f1_score(y_test, y_test_pred)))\n",
    "print(\"Наилучшие значения гиперпараметров: {}\".format(grid_search_forest.best_params_))"
   ]
  },
  {
   "attachments": {},
   "cell_type": "markdown",
   "id": "df53964f",
   "metadata": {},
   "source": [
    "Промежуточный вывод: метрика модели случайного леса значительно улучшилась по сравнению с базовыми параметрами: f1_score на тестовом наборе: 0.74, а с использованием GridSearchCV: f1_score на тестовом наборе: 0.80, в то время как метрика модели логистической регрессии увеличилась незначительно: f1_score на тестовом наборе: 0.78, с использованием GridSearchCV: f1_score на тестовом наборе: 0.79. "
   ]
  },
  {
   "attachments": {},
   "cell_type": "markdown",
   "id": "37f97885",
   "metadata": {},
   "source": [
    "## <center> RandomizedSearchCV"
   ]
  },
  {
   "attachments": {},
   "cell_type": "markdown",
   "id": "439538fb",
   "metadata": {
    "papermill": {
     "duration": null,
     "end_time": null,
     "exception": null,
     "start_time": null,
     "status": "pending"
    },
    "tags": []
   },
   "source": [
    "В отличие от GridSearchCV, не все комбинации гиперпараметров проверяются, а только заданное количество комбинаций выбирается из указанных распределений. Количество комбинаций гиперпараметров задается n_iter.\n",
    "\n",
    "С использованием класса RandomizedSearchCV из библиотеки scikit learn мы осуществим оптимизацию гиперпараметров для алгоритмов логистической регрессии и случайного леса, а также сравним результаты с GridSearchCV и значениями по умолчанию."
   ]
  },
  {
   "attachments": {},
   "cell_type": "markdown",
   "id": "f907cecd",
   "metadata": {
    "papermill": {
     "duration": null,
     "end_time": null,
     "exception": null,
     "start_time": null,
     "status": "pending"
    },
    "tags": []
   },
   "source": [
    "### Логистическая регресия"
   ]
  },
  {
   "cell_type": "code",
   "execution_count": 18,
   "id": "1566baea",
   "metadata": {
    "papermill": {
     "duration": null,
     "end_time": null,
     "exception": null,
     "start_time": null,
     "status": "pending"
    },
    "tags": []
   },
   "outputs": [
    {
     "name": "stdout",
     "output_type": "stream",
     "text": [
      "CPU times: total: 6.59 s\n",
      "Wall time: 1min 18s\n",
      "f1_score на тестовом наборе: 0.78\n",
      "Наилучшие значения гиперпараметров: {'solver': 'sag', 'penalty': 'l2', 'C': 0.01}\n"
     ]
    }
   ],
   "source": [
    "#np.linspace(start(от), stop(до), num=50(количество),dtype- тип данных)\n",
    "param_grid = {'penalty': ['l2', 'none'] ,\n",
    "              'solver': ['lbfgs', 'sag'],\n",
    "               'C': list(np.linspace(0.01, 1, 10, dtype=float))},\n",
    "            \n",
    "random_search = RandomizedSearchCV(\n",
    "    estimator=linear_model.LogisticRegression(random_state=42, max_iter=50), \n",
    "    param_distributions=param_grid, \n",
    "    cv=5, \n",
    "    n_iter = 10, \n",
    "    n_jobs = -1\n",
    ")  \n",
    "%time random_search.fit(X_train, y_train) \n",
    "y_test_pred = random_search.predict(X_test)\n",
    "print('f1_score на тестовом наборе: {:.2f}'.format(metrics.f1_score(y_test, y_test_pred)))\n",
    "print(\"Наилучшие значения гиперпараметров: {}\".format(random_search.best_params_))"
   ]
  },
  {
   "attachments": {},
   "cell_type": "markdown",
   "id": "2b501f82",
   "metadata": {
    "papermill": {
     "duration": null,
     "end_time": null,
     "exception": null,
     "start_time": null,
     "status": "pending"
    },
    "tags": []
   },
   "source": [
    "За 10 итераций метрику улучшить не удалось."
   ]
  },
  {
   "attachments": {},
   "cell_type": "markdown",
   "id": "96597ba3",
   "metadata": {
    "papermill": {
     "duration": null,
     "end_time": null,
     "exception": null,
     "start_time": null,
     "status": "pending"
    },
    "tags": []
   },
   "source": [
    "### Случайный лес"
   ]
  },
  {
   "cell_type": "code",
   "execution_count": 19,
   "id": "ffc2673b",
   "metadata": {
    "papermill": {
     "duration": null,
     "end_time": null,
     "exception": null,
     "start_time": null,
     "status": "pending"
    },
    "tags": []
   },
   "outputs": [
    {
     "name": "stdout",
     "output_type": "stream",
     "text": [
      "CPU times: total: 6.31 s\n",
      "Wall time: 1min 22s\n",
      "f1_score на тестовом наборе: 0.80\n",
      "Наилучшие значения гиперпараметров: {'n_estimators': 170, 'min_samples_leaf': 5, 'max_depth': 22}\n"
     ]
    }
   ],
   "source": [
    "param_grid = {'n_estimators': list(range(80, 200, 30)),\n",
    "              'min_samples_leaf': [5],\n",
    "              'max_depth': list(np.linspace(20, 40, 10, dtype=int))\n",
    "              }\n",
    "            \n",
    "random_search_forest = RandomizedSearchCV(\n",
    "    estimator=ensemble.RandomForestClassifier(random_state=42), \n",
    "    param_distributions=param_grid, \n",
    "    cv=5,\n",
    "    n_iter = 10, \n",
    "    n_jobs = -1\n",
    ")  \n",
    "%time random_search_forest.fit(X_train, y_train) \n",
    "y_train_pred = random_search_forest.predict(X_train)\n",
    "y_test_pred = random_search_forest.predict(X_test)\n",
    "print('f1_score на тестовом наборе: {:.2f}'.format(metrics.f1_score(y_test, y_test_pred)))\n",
    "print(\"Наилучшие значения гиперпараметров: {}\".format(random_search_forest.best_params_))"
   ]
  },
  {
   "attachments": {},
   "cell_type": "markdown",
   "id": "5f1fb74e",
   "metadata": {
    "papermill": {
     "duration": null,
     "end_time": null,
     "exception": null,
     "start_time": null,
     "status": "pending"
    },
    "tags": []
   },
   "source": [
    "Промежуточный вывод: Случайный лес в этом случае показал себя лучше метрика выше: f1_score на тестовом наборе: 0.80, а у логистической регрессии: f1_score на тестовом наборе: 0.78."
   ]
  },
  {
   "attachments": {},
   "cell_type": "markdown",
   "id": "2caefa3d",
   "metadata": {
    "papermill": {
     "duration": null,
     "end_time": null,
     "exception": null,
     "start_time": null,
     "status": "pending"
    },
    "tags": []
   },
   "source": [
    "### Вывод по базовой оптимизации:\n",
    "Нам удалось продемонстрировать более эффективную и быструю работу RandomizedSearchCV над GridSearchCV; при этом показатели метрики существенно выросли у модели случайного леса, тогда как метрика модели логистической регрессии практически не изменилась."
   ]
  },
  {
   "attachments": {},
   "cell_type": "markdown",
   "id": "5ec8a691",
   "metadata": {
    "papermill": {
     "duration": null,
     "end_time": null,
     "exception": null,
     "start_time": null,
     "status": "pending"
    },
    "tags": []
   },
   "source": [
    "# <center> Модель продвинутой оптимизации."
   ]
  },
  {
   "attachments": {},
   "cell_type": "markdown",
   "id": "7dca5a19",
   "metadata": {
    "papermill": {
     "duration": null,
     "end_time": null,
     "exception": null,
     "start_time": null,
     "status": "pending"
    },
    "tags": []
   },
   "source": [
    "## <center> Hyperopt"
   ]
  },
  {
   "attachments": {},
   "cell_type": "markdown",
   "id": "86720d4f",
   "metadata": {},
   "source": [
    "Интерфейс hyperopt отличается от Grid или RandomizedSearch, поэтому нам нужно создать функцию для минимизации, она должна принимать словарь значений гиперпараметров и возвращать значение целевой функции."
   ]
  },
  {
   "cell_type": "code",
   "execution_count": 20,
   "id": "ac51ced9",
   "metadata": {
    "papermill": {
     "duration": null,
     "end_time": null,
     "exception": null,
     "start_time": null,
     "status": "pending"
    },
    "tags": []
   },
   "outputs": [
    {
     "name": "stdout",
     "output_type": "stream",
     "text": [
      "Версия Hyperopt : 0.2.7\n"
     ]
    }
   ],
   "source": [
    "# проверим установленную версию Hyperopt\n",
    "print(\"Версия Hyperopt : {}\".format(hyperopt.__version__))"
   ]
  },
  {
   "attachments": {},
   "cell_type": "markdown",
   "id": "929134f7",
   "metadata": {
    "papermill": {
     "duration": null,
     "end_time": null,
     "exception": null,
     "start_time": null,
     "status": "pending"
    },
    "tags": []
   },
   "source": [
    "### Логистическая регресия"
   ]
  },
  {
   "cell_type": "code",
   "execution_count": 12,
   "id": "3aa95213",
   "metadata": {
    "papermill": {
     "duration": null,
     "end_time": null,
     "exception": null,
     "start_time": null,
     "status": "pending"
    },
    "tags": []
   },
   "outputs": [],
   "source": [
    "# зададим пространство поиска гиперпараметров\n",
    "# Logistic Regression supports only solvers in ['liblinear', 'newton-cg', 'lbfgs', 'sag', 'saga']\n",
    "space={'penalty': hp.choice ('penalty', ['l1', 'l2']) ,\n",
    "    'solver': hp.choice ('solver', ['liblinear', 'saga']),\n",
    "    'C': hp.quniform('C', 0.01, 1, 0.01)\n",
    "    }"
   ]
  },
  {
   "cell_type": "code",
   "execution_count": 13,
   "id": "d985f0aa",
   "metadata": {
    "papermill": {
     "duration": null,
     "end_time": null,
     "exception": null,
     "start_time": null,
     "status": "pending"
    },
    "tags": []
   },
   "outputs": [],
   "source": [
    "# зафксируем random_state\n",
    "random_state = 42\n",
    "def hyperopt_lr(params, cv=5, X=X_train, y=y_train, random_state=random_state):\n",
    "    # функция получает комбинацию гиперпараметров в \"params\"\n",
    "    params = {'penalty': params ['penalty'],\n",
    "                'solver': params ['solver'],\n",
    "                'C':params ['C']\n",
    "    }\n",
    "  \n",
    "    # используем эту комбинацию для построения модели\n",
    "    model = linear_model.LogisticRegression(\n",
    "       **params,\n",
    "        random_state=random_state,\n",
    "        max_iter=50\n",
    "    )\n",
    "\n",
    "    # обучаем модель\n",
    "    model.fit(X, y)\n",
    "    score = metrics.f1_score(y, model.predict(X))\n",
    "    \n",
    "    # обучать модель можно также с помощью кросс-валидации\n",
    "    # применим  cross validation с тем же количеством фолдов\n",
    "    score = cross_val_score(model, X, y, cv=cv, scoring=\"f1\", n_jobs=-1).mean()\n",
    "\n",
    "    # метрику необходимо минимизировать, поэтому ставим знак минус\n",
    "    return -score"
   ]
  },
  {
   "cell_type": "code",
   "execution_count": 14,
   "id": "33d62c38",
   "metadata": {
    "papermill": {
     "duration": null,
     "end_time": null,
     "exception": null,
     "start_time": null,
     "status": "pending"
    },
    "tags": []
   },
   "outputs": [
    {
     "name": "stdout",
     "output_type": "stream",
     "text": [
      "100%|██████████| 20/20 [06:00<00:00, 18.02s/trial, best loss: -0.7904516202991784]\n",
      "Наилучшие значения гиперпараметров {'C': 0.22, 'penalty': 0, 'solver': 1}\n",
      "CPU times: total: 1min 49s\n",
      "Wall time: 6min\n"
     ]
    }
   ],
   "source": [
    "%%time\n",
    "# начинаем подбор гиперпараметров\n",
    "\n",
    "trials = Trials() # используется для логирования результатов\n",
    "\n",
    "best=fmin(hyperopt_lr, # наша функция \n",
    "          space=space, # пространство гиперпараметров\n",
    "          algo=tpe.suggest, # алгоритм оптимизации, установлен по умолчанию, задавать необязательно\n",
    "          max_evals=20, # максимальное количество итераций\n",
    "          trials=trials, # логирование результатов\n",
    "          rstate=np.random.default_rng(random_state) # фиксируем для повторяемости результата\n",
    "         )\n",
    "print(\"Наилучшие значения гиперпараметров {}\".format(best))"
   ]
  },
  {
   "cell_type": "code",
   "execution_count": 15,
   "id": "693e9fd0",
   "metadata": {},
   "outputs": [
    {
     "name": "stdout",
     "output_type": "stream",
     "text": [
      "f1_score на тестовом наборе: 0.78\n"
     ]
    }
   ],
   "source": [
    "# рассчитаем метрику для тестовой выборки\n",
    "model = linear_model.LogisticRegression(\n",
    "    random_state=random_state, \n",
    "    C = 0.22,\n",
    "    penalty = 'l1',\n",
    "    solver = 'saga',\n",
    "    max_iter=50\n",
    " \n",
    ")\n",
    "model.fit(X_train, y_train)\n",
    "y_train_pred = model.predict(X_train)\n",
    "y_test_pred = model.predict(X_test)\n",
    "print('f1_score на тестовом наборе: {:.2f}'.format(metrics.f1_score(y_test, y_test_pred)))"
   ]
  },
  {
   "attachments": {},
   "cell_type": "markdown",
   "id": "3d524fb2",
   "metadata": {
    "papermill": {
     "duration": null,
     "end_time": null,
     "exception": null,
     "start_time": null,
     "status": "pending"
    },
    "tags": []
   },
   "source": [
    "### Случайный лес"
   ]
  },
  {
   "attachments": {},
   "cell_type": "markdown",
   "id": "6249d343",
   "metadata": {
    "papermill": {
     "duration": null,
     "end_time": null,
     "exception": null,
     "start_time": null,
     "status": "pending"
    },
    "tags": []
   },
   "source": [
    "Настроим оптимизацию гиперпараметров для алгоритма случайного леса."
   ]
  },
  {
   "cell_type": "code",
   "execution_count": 72,
   "id": "83ad2015",
   "metadata": {
    "papermill": {
     "duration": null,
     "end_time": null,
     "exception": null,
     "start_time": null,
     "status": "pending"
    },
    "tags": []
   },
   "outputs": [],
   "source": [
    "# зададим пространство поиска гиперпараметров\n",
    "space={'n_estimators': hp.quniform('n_estimators', 100, 200, 1),\n",
    "       'max_depth' : hp.quniform('max_depth', 15, 26, 1),\n",
    "       'min_samples_leaf': hp.quniform('min_samples_leaf', 2, 10, 1)\n",
    "      }"
   ]
  },
  {
   "cell_type": "code",
   "execution_count": 73,
   "id": "99bcdc4b",
   "metadata": {
    "papermill": {
     "duration": null,
     "end_time": null,
     "exception": null,
     "start_time": null,
     "status": "pending"
    },
    "tags": []
   },
   "outputs": [],
   "source": [
    "# зафксируем random_state\n",
    "random_state = 42\n",
    "def hyperopt_rf(params, cv=5, X=X_train, y=y_train, random_state=random_state):\n",
    "    # функция получает комбинацию гиперпараметров в \"params\"\n",
    "    params = {'n_estimators': int(params['n_estimators']), \n",
    "              'max_depth': int(params['max_depth']), \n",
    "             'min_samples_leaf': int(params['min_samples_leaf'])\n",
    "              }\n",
    "  \n",
    "    # используем эту комбинацию для построения модели\n",
    "    model = ensemble.RandomForestClassifier(**params, random_state=random_state)\n",
    "\n",
    "    # обучаем модель\n",
    "    model.fit(X, y)\n",
    "    score = metrics.f1_score(y, model.predict(X))\n",
    "    \n",
    "    # обучать модель можно также с помощью кросс-валидации\n",
    "    # применим  cross validation с тем же количеством фолдов\n",
    "    score = cross_val_score(model, X, y, cv=cv, scoring=\"f1\", n_jobs=-1).mean()\n",
    "\n",
    "    # метрику необходимо минимизировать, поэтому ставим знак минус\n",
    "    return -score"
   ]
  },
  {
   "cell_type": "code",
   "execution_count": 74,
   "id": "72add9e1",
   "metadata": {
    "papermill": {
     "duration": null,
     "end_time": null,
     "exception": null,
     "start_time": null,
     "status": "pending"
    },
    "tags": []
   },
   "outputs": [
    {
     "name": "stdout",
     "output_type": "stream",
     "text": [
      "CPU times: total: 0 ns\n",
      "Wall time: 0 ns\n",
      "  0%|          | 0/20 [00:00<?, ?trial/s, best loss=?]"
     ]
    },
    {
     "name": "stdout",
     "output_type": "stream",
     "text": [
      "100%|██████████| 20/20 [05:42<00:00, 17.10s/trial, best loss: -0.813957426489543] \n",
      "Наилучшие значения гиперпараметров {'max_depth': 23.0, 'min_samples_leaf': 4.0, 'n_estimators': 197.0}\n"
     ]
    }
   ],
   "source": [
    "# начинаем подбор гиперпараметров\n",
    "%time\n",
    "\n",
    "trials = Trials() # используется для логирования результатов\n",
    "\n",
    "best=fmin(hyperopt_rf, # наша функция \n",
    "          space=space, # пространство гиперпараметров\n",
    "          algo=tpe.suggest, # алгоритм оптимизации, установлен по умолчанию, задавать необязательно\n",
    "          max_evals=20, # максимальное количество итераций\n",
    "          trials=trials, # логирование результатов\n",
    "          rstate=np.random.seed(random_state)# фиксируем для повторяемости результата\n",
    "         )\n",
    "print(\"Наилучшие значения гиперпараметров {}\".format(best))"
   ]
  },
  {
   "cell_type": "code",
   "execution_count": 62,
   "id": "314675d4",
   "metadata": {
    "papermill": {
     "duration": null,
     "end_time": null,
     "exception": null,
     "start_time": null,
     "status": "pending"
    },
    "tags": []
   },
   "outputs": [
    {
     "name": "stdout",
     "output_type": "stream",
     "text": [
      "f1_score на тестовом наборе: 0.80\n"
     ]
    }
   ],
   "source": [
    "# рассчитаем метрику для тестовой выборки\n",
    "model = ensemble.RandomForestClassifier(\n",
    "    random_state=random_state, \n",
    "    n_estimators=int(best['n_estimators']),\n",
    "    max_depth=int(best['max_depth']),\n",
    "    min_samples_leaf=int(best['min_samples_leaf'])\n",
    ")\n",
    "model.fit(X_train, y_train)\n",
    "y_train_pred = model.predict(X_train)\n",
    "y_test_pred = model.predict(X_test)\n",
    "print('f1_score на тестовом наборе: {:.2f}'.format(metrics.f1_score(y_test, y_test_pred)))"
   ]
  },
  {
   "attachments": {},
   "cell_type": "markdown",
   "id": "ee99a2f2",
   "metadata": {
    "papermill": {
     "duration": null,
     "end_time": null,
     "exception": null,
     "start_time": null,
     "status": "pending"
    },
    "tags": []
   },
   "source": [
    "Вывод: Мы видим, что Hyperot не смог улучшить нашу метрику, однако мы потратили меньше времени."
   ]
  },
  {
   "attachments": {},
   "cell_type": "markdown",
   "id": "9a2cd0e4",
   "metadata": {
    "papermill": {
     "duration": null,
     "end_time": null,
     "exception": null,
     "start_time": null,
     "status": "pending"
    },
    "tags": []
   },
   "source": [
    "## <center> Optuna"
   ]
  },
  {
   "attachments": {},
   "cell_type": "markdown",
   "id": "e02fceb5",
   "metadata": {
    "papermill": {
     "duration": null,
     "end_time": null,
     "exception": null,
     "start_time": null,
     "status": "pending"
    },
    "tags": []
   },
   "source": [
    "Optuna - это достаточно новый фреймворк/библиотека, разработанный специально для оптимизации гиперпараметров. Помимо байесовских алгоритмов, есть возможность удаления плохих комбинаций из рассмотрения. По умолчанию удаляет комбинации, в которых модель дает качество ниже медианы из уже рассмотренных. Optuna помогает быстрее находить лучшие гиперпараметры и работает с большинством современных известных библиотек ML, таких как scikit-learn, xgboost, PyTorch, TensorFlow, skorch, lightgbm, Keras, fast-ai и др."
   ]
  },
  {
   "cell_type": "code",
   "execution_count": 63,
   "id": "b86ff136",
   "metadata": {
    "papermill": {
     "duration": null,
     "end_time": null,
     "exception": null,
     "start_time": null,
     "status": "pending"
    },
    "tags": []
   },
   "outputs": [
    {
     "name": "stdout",
     "output_type": "stream",
     "text": [
      "Версия Optuna: 3.1.1\n"
     ]
    }
   ],
   "source": [
    "# Проверим версию \n",
    "print(\"Версия Optuna: {}\".format(optuna.__version__))"
   ]
  },
  {
   "attachments": {},
   "cell_type": "markdown",
   "id": "6ba8d313",
   "metadata": {},
   "source": [
    "### Случайный лес"
   ]
  },
  {
   "cell_type": "code",
   "execution_count": 64,
   "id": "9a13e74b",
   "metadata": {
    "papermill": {
     "duration": null,
     "end_time": null,
     "exception": null,
     "start_time": null,
     "status": "pending"
    },
    "tags": []
   },
   "outputs": [],
   "source": [
    "def optuna_rf(trial):\n",
    "    # задаем пространства поиска гиперпараметров\n",
    "    n_estimators = trial.suggest_int('n_estimators', 100, 200, 1)\n",
    "    max_depth = trial.suggest_int('max_depth', 10, 30, 1)\n",
    "    min_samples_leaf = trial.suggest_int('min_samples_leaf', 2, 10, 1)\n",
    "\n",
    "    # создаем модель\n",
    "    model = ensemble.RandomForestClassifier(n_estimators=n_estimators,\n",
    "                                            max_depth=max_depth,\n",
    "                                            min_samples_leaf=min_samples_leaf,\n",
    "                                            random_state=random_state)\n",
    "    # обучаем модель\n",
    "    model.fit(X_train, y_train)\n",
    "    score = metrics.f1_score(y_train, model.predict(X_train))\n",
    "\n",
    "    return score"
   ]
  },
  {
   "cell_type": "code",
   "execution_count": 65,
   "id": "d4b40180",
   "metadata": {
    "papermill": {
     "duration": null,
     "end_time": null,
     "exception": null,
     "start_time": null,
     "status": "pending"
    },
    "tags": []
   },
   "outputs": [
    {
     "name": "stderr",
     "output_type": "stream",
     "text": [
      "\u001b[32m[I 2023-07-05 13:01:59,914]\u001b[0m A new study created in memory with name: RandomForestClassifier\u001b[0m\n",
      "\u001b[32m[I 2023-07-05 13:02:05,461]\u001b[0m Trial 0 finished with value: 0.973170731707317 and parameters: {'n_estimators': 129, 'max_depth': 21, 'min_samples_leaf': 3}. Best is trial 0 with value: 0.973170731707317.\u001b[0m\n",
      "\u001b[32m[I 2023-07-05 13:02:11,009]\u001b[0m Trial 1 finished with value: 0.8961948249619481 and parameters: {'n_estimators': 178, 'max_depth': 29, 'min_samples_leaf': 10}. Best is trial 0 with value: 0.973170731707317.\u001b[0m\n",
      "\u001b[32m[I 2023-07-05 13:02:14,265]\u001b[0m Trial 2 finished with value: 0.8934102641967809 and parameters: {'n_estimators': 105, 'max_depth': 18, 'min_samples_leaf': 10}. Best is trial 0 with value: 0.973170731707317.\u001b[0m\n",
      "\u001b[32m[I 2023-07-05 13:02:19,819]\u001b[0m Trial 3 finished with value: 0.9279416235937974 and parameters: {'n_estimators': 154, 'max_depth': 18, 'min_samples_leaf': 6}. Best is trial 0 with value: 0.973170731707317.\u001b[0m\n",
      "\u001b[32m[I 2023-07-05 13:02:23,887]\u001b[0m Trial 4 finished with value: 0.9026763990267641 and parameters: {'n_estimators': 128, 'max_depth': 26, 'min_samples_leaf': 9}. Best is trial 0 with value: 0.973170731707317.\u001b[0m\n",
      "\u001b[32m[I 2023-07-05 13:02:29,716]\u001b[0m Trial 5 finished with value: 0.9908031882280809 and parameters: {'n_estimators': 133, 'max_depth': 29, 'min_samples_leaf': 2}. Best is trial 5 with value: 0.9908031882280809.\u001b[0m\n",
      "\u001b[32m[I 2023-07-05 13:02:35,046]\u001b[0m Trial 6 finished with value: 0.9895769466584917 and parameters: {'n_estimators': 122, 'max_depth': 23, 'min_samples_leaf': 2}. Best is trial 5 with value: 0.9908031882280809.\u001b[0m\n",
      "\u001b[32m[I 2023-07-05 13:02:39,474]\u001b[0m Trial 7 finished with value: 0.9284191288455681 and parameters: {'n_estimators': 125, 'max_depth': 26, 'min_samples_leaf': 6}. Best is trial 5 with value: 0.9908031882280809.\u001b[0m\n",
      "\u001b[32m[I 2023-07-05 13:02:45,596]\u001b[0m Trial 8 finished with value: 0.9100335468130527 and parameters: {'n_estimators': 189, 'max_depth': 26, 'min_samples_leaf': 8}. Best is trial 5 with value: 0.9908031882280809.\u001b[0m\n",
      "\u001b[32m[I 2023-07-05 13:02:49,899]\u001b[0m Trial 9 finished with value: 0.9109212934716292 and parameters: {'n_estimators': 138, 'max_depth': 12, 'min_samples_leaf': 7}. Best is trial 5 with value: 0.9908031882280809.\u001b[0m\n",
      "\u001b[32m[I 2023-07-05 13:02:56,487]\u001b[0m Trial 10 finished with value: 0.9573430834856795 and parameters: {'n_estimators': 166, 'max_depth': 30, 'min_samples_leaf': 4}. Best is trial 5 with value: 0.9908031882280809.\u001b[0m\n",
      "\u001b[32m[I 2023-07-05 13:03:01,388]\u001b[0m Trial 11 finished with value: 0.9895705521472393 and parameters: {'n_estimators': 106, 'max_depth': 22, 'min_samples_leaf': 2}. Best is trial 5 with value: 0.9908031882280809.\u001b[0m\n",
      "\u001b[32m[I 2023-07-05 13:03:07,118]\u001b[0m Trial 12 finished with value: 0.9573950091296408 and parameters: {'n_estimators': 147, 'max_depth': 23, 'min_samples_leaf': 4}. Best is trial 5 with value: 0.9908031882280809.\u001b[0m\n",
      "\u001b[32m[I 2023-07-05 13:03:12,049]\u001b[0m Trial 13 finished with value: 0.9724938875305623 and parameters: {'n_estimators': 117, 'max_depth': 14, 'min_samples_leaf': 2}. Best is trial 5 with value: 0.9908031882280809.\u001b[0m\n",
      "\u001b[32m[I 2023-07-05 13:03:17,942]\u001b[0m Trial 14 finished with value: 0.9564952844539092 and parameters: {'n_estimators': 147, 'max_depth': 24, 'min_samples_leaf': 4}. Best is trial 5 with value: 0.9908031882280809.\u001b[0m\n",
      "\u001b[32m[I 2023-07-05 13:03:23,271]\u001b[0m Trial 15 finished with value: 0.9901960784313726 and parameters: {'n_estimators': 117, 'max_depth': 28, 'min_samples_leaf': 2}. Best is trial 5 with value: 0.9908031882280809.\u001b[0m\n",
      "\u001b[32m[I 2023-07-05 13:03:27,572]\u001b[0m Trial 16 finished with value: 0.9410687022900762 and parameters: {'n_estimators': 112, 'max_depth': 28, 'min_samples_leaf': 5}. Best is trial 5 with value: 0.9908031882280809.\u001b[0m\n",
      "\u001b[32m[I 2023-07-05 13:03:33,415]\u001b[0m Trial 17 finished with value: 0.9722476364745349 and parameters: {'n_estimators': 138, 'max_depth': 30, 'min_samples_leaf': 3}. Best is trial 5 with value: 0.9908031882280809.\u001b[0m\n",
      "\u001b[32m[I 2023-07-05 13:03:41,760]\u001b[0m Trial 18 finished with value: 0.9743589743589743 and parameters: {'n_estimators': 200, 'max_depth': 27, 'min_samples_leaf': 3}. Best is trial 5 with value: 0.9908031882280809.\u001b[0m\n",
      "\u001b[32m[I 2023-07-05 13:03:45,832]\u001b[0m Trial 19 finished with value: 0.9410687022900762 and parameters: {'n_estimators': 101, 'max_depth': 19, 'min_samples_leaf': 5}. Best is trial 5 with value: 0.9908031882280809.\u001b[0m\n"
     ]
    },
    {
     "name": "stdout",
     "output_type": "stream",
     "text": [
      "CPU times: total: 1min 41s\n",
      "Wall time: 1min 45s\n"
     ]
    }
   ],
   "source": [
    "%%time\n",
    "# cоздаем объект исследования\n",
    "# можем напрямую указать, что нам необходимо максимизировать метрику direction=\"maximize\"\n",
    "study = optuna.create_study(study_name=\"RandomForestClassifier\", direction=\"maximize\")\n",
    "# ищем лучшую комбинацию гиперпараметров n_trials раз\n",
    "study.optimize(optuna_rf, n_trials=20)"
   ]
  },
  {
   "cell_type": "code",
   "execution_count": 66,
   "id": "94874c1e",
   "metadata": {
    "papermill": {
     "duration": null,
     "end_time": null,
     "exception": null,
     "start_time": null,
     "status": "pending"
    },
    "tags": []
   },
   "outputs": [
    {
     "name": "stdout",
     "output_type": "stream",
     "text": [
      "accuracy на тестовом наборе: 0.78\n",
      "f1_score на тестовом наборе: 0.80\n"
     ]
    }
   ],
   "source": [
    "# рассчитаем метрику для тестовой выборки\n",
    "model = ensemble.RandomForestClassifier(**study.best_params,random_state=random_state, )\n",
    "model.fit(X_train, y_train)\n",
    "y_train_pred = model.predict(X_train)\n",
    "print(\"accuracy на тестовом наборе: {:.2f}\".format(model.score(X_test, y_test)))\n",
    "y_test_pred = model.predict(X_test)\n",
    "print('f1_score на тестовом наборе: {:.2f}'.format(metrics.f1_score(y_test, y_test_pred)))"
   ]
  },
  {
   "attachments": {},
   "cell_type": "markdown",
   "id": "5aa56b2f",
   "metadata": {},
   "source": [
    "### Логистическая регресия"
   ]
  },
  {
   "cell_type": "code",
   "execution_count": 90,
   "id": "919d483c",
   "metadata": {},
   "outputs": [
    {
     "name": "stderr",
     "output_type": "stream",
     "text": [
      "\u001b[32m[I 2023-07-05 14:47:27,458]\u001b[0m A new study created in memory with name: LogisticRegression\u001b[0m\n"
     ]
    },
    {
     "name": "stderr",
     "output_type": "stream",
     "text": [
      "\u001b[32m[I 2023-07-05 14:47:43,945]\u001b[0m Trial 0 finished with value: 0.8279569892473119 and parameters: {'penalty': 'l1', 'solver': 'saga', 'C': 0.21555408958025724}. Best is trial 0 with value: 0.8279569892473119.\u001b[0m\n",
      "\u001b[32m[I 2023-07-05 14:47:44,483]\u001b[0m Trial 1 finished with value: 0.808573980351295 and parameters: {'penalty': 'l1', 'solver': 'liblinear', 'C': 0.10895844908168302}. Best is trial 0 with value: 0.8279569892473119.\u001b[0m\n",
      "\u001b[32m[I 2023-07-05 14:48:02,161]\u001b[0m Trial 2 finished with value: 0.8537976583608528 and parameters: {'penalty': 'l1', 'solver': 'saga', 'C': 0.5928304342894335}. Best is trial 2 with value: 0.8537976583608528.\u001b[0m\n",
      "\u001b[32m[I 2023-07-05 14:48:02,767]\u001b[0m Trial 3 finished with value: 0.8267622461170849 and parameters: {'penalty': 'l2', 'solver': 'liblinear', 'C': 0.013157205116521176}. Best is trial 2 with value: 0.8537976583608528.\u001b[0m\n",
      "\u001b[32m[I 2023-07-05 14:48:20,008]\u001b[0m Trial 4 finished with value: 0.831145584725537 and parameters: {'penalty': 'l1', 'solver': 'saga', 'C': 0.237158238248118}. Best is trial 2 with value: 0.8537976583608528.\u001b[0m\n",
      "\u001b[32m[I 2023-07-05 14:48:24,733]\u001b[0m Trial 5 finished with value: 0.8648159324079662 and parameters: {'penalty': 'l1', 'solver': 'liblinear', 'C': 0.7348312791803041}. Best is trial 5 with value: 0.8648159324079662.\u001b[0m\n",
      "\u001b[32m[I 2023-07-05 14:48:42,037]\u001b[0m Trial 6 finished with value: 0.831494184312556 and parameters: {'penalty': 'l1', 'solver': 'saga', 'C': 0.24211596836378116}. Best is trial 5 with value: 0.8648159324079662.\u001b[0m\n",
      "\u001b[32m[I 2023-07-05 14:49:05,616]\u001b[0m Trial 7 finished with value: 0.8588697491689332 and parameters: {'penalty': 'l1', 'solver': 'saga', 'C': 0.8956947225002786}. Best is trial 5 with value: 0.8648159324079662.\u001b[0m\n",
      "\u001b[32m[I 2023-07-05 14:49:06,419]\u001b[0m Trial 8 finished with value: 0.8438995215311005 and parameters: {'penalty': 'l2', 'solver': 'liblinear', 'C': 0.060557551739933164}. Best is trial 5 with value: 0.8648159324079662.\u001b[0m\n",
      "\u001b[32m[I 2023-07-05 14:49:07,624]\u001b[0m Trial 9 finished with value: 0.8842424242424242 and parameters: {'penalty': 'l2', 'solver': 'liblinear', 'C': 0.5107784126302076}. Best is trial 9 with value: 0.8842424242424242.\u001b[0m\n",
      "\u001b[32m[I 2023-07-05 14:49:08,947]\u001b[0m Trial 10 finished with value: 0.8824242424242424 and parameters: {'penalty': 'l2', 'solver': 'liblinear', 'C': 0.46759940732189387}. Best is trial 9 with value: 0.8842424242424242.\u001b[0m\n",
      "\u001b[32m[I 2023-07-05 14:49:10,446]\u001b[0m Trial 11 finished with value: 0.8839745531657073 and parameters: {'penalty': 'l2', 'solver': 'liblinear', 'C': 0.5066435707314157}. Best is trial 9 with value: 0.8842424242424242.\u001b[0m\n",
      "\u001b[32m[I 2023-07-05 14:49:11,647]\u001b[0m Trial 12 finished with value: 0.8814073400060661 and parameters: {'penalty': 'l2', 'solver': 'liblinear', 'C': 0.44993918734362465}. Best is trial 9 with value: 0.8842424242424242.\u001b[0m\n",
      "\u001b[32m[I 2023-07-05 14:49:13,017]\u001b[0m Trial 13 finished with value: 0.8853850818677986 and parameters: {'penalty': 'l2', 'solver': 'liblinear', 'C': 0.5879842983589416}. Best is trial 13 with value: 0.8853850818677986.\u001b[0m\n",
      "\u001b[32m[I 2023-07-05 14:49:14,441]\u001b[0m Trial 14 finished with value: 0.8886866848650287 and parameters: {'penalty': 'l2', 'solver': 'liblinear', 'C': 0.6952140728502767}. Best is trial 14 with value: 0.8886866848650287.\u001b[0m\n",
      "\u001b[32m[I 2023-07-05 14:49:15,871]\u001b[0m Trial 15 finished with value: 0.8889563106796116 and parameters: {'penalty': 'l2', 'solver': 'liblinear', 'C': 0.731343256336345}. Best is trial 15 with value: 0.8889563106796116.\u001b[0m\n",
      "\u001b[32m[I 2023-07-05 14:49:17,529]\u001b[0m Trial 16 finished with value: 0.8929329693660903 and parameters: {'penalty': 'l2', 'solver': 'liblinear', 'C': 0.9458994010130093}. Best is trial 16 with value: 0.8929329693660903.\u001b[0m\n",
      "\u001b[32m[I 2023-07-05 14:49:19,295]\u001b[0m Trial 17 finished with value: 0.8929329693660903 and parameters: {'penalty': 'l2', 'solver': 'liblinear', 'C': 0.9742392305220284}. Best is trial 16 with value: 0.8929329693660903.\u001b[0m\n",
      "\u001b[32m[I 2023-07-05 14:49:20,973]\u001b[0m Trial 18 finished with value: 0.8929329693660903 and parameters: {'penalty': 'l2', 'solver': 'liblinear', 'C': 0.9828507361849897}. Best is trial 16 with value: 0.8929329693660903.\u001b[0m\n",
      "\u001b[32m[I 2023-07-05 14:49:22,657]\u001b[0m Trial 19 finished with value: 0.8932038834951456 and parameters: {'penalty': 'l2', 'solver': 'liblinear', 'C': 0.9917375900277275}. Best is trial 19 with value: 0.8932038834951456.\u001b[0m\n"
     ]
    }
   ],
   "source": [
    "def optuna_lr(trial):\n",
    "  # задаем пространства поиска гиперпараметров\n",
    "  penalty = trial.suggest_categorical('penalty', ['l1', 'l2'])\n",
    "  solver = trial.suggest_categorical('solver', ['liblinear', 'saga'])\n",
    "  C = trial.suggest_float('C', low=0.01, high=1)\n",
    "\n",
    "  \n",
    "  # создаем модель\n",
    "  model = linear_model.LogisticRegression(penalty=penalty,\n",
    "                                          solver=solver,\n",
    "                                          C=C,\n",
    "                                          random_state=random_state)\n",
    "  # обучаем модель\n",
    "  model.fit(X_train, y_train)\n",
    "  score = metrics.f1_score(y_train, model.predict(X_train))\n",
    "\n",
    "  return score\n",
    "  \n",
    "  %%time\n",
    "# cоздаем объект исследования\n",
    "# можем напрямую указать, что нам необходимо максимизировать метрику direction=\"maximize\"\n",
    "study = optuna.create_study(study_name=\"LogisticRegression\", direction=\"maximize\")\n",
    "# ищем лучшую комбинацию гиперпараметров n_trials раз\n",
    "study.optimize(optuna_lr, n_trials=20)"
   ]
  },
  {
   "cell_type": "code",
   "execution_count": 91,
   "id": "62f1f2c4",
   "metadata": {},
   "outputs": [
    {
     "name": "stdout",
     "output_type": "stream",
     "text": [
      "Наилучшие значения гиперпараметров {'penalty': 'l2', 'solver': 'liblinear', 'C': 0.9917375900277275}\n",
      "f1_score на обучающем наборе: 0.89\n"
     ]
    }
   ],
   "source": [
    "# выводим результаты на обучающей выборке\n",
    "print(\"Наилучшие значения гиперпараметров {}\".format(study.best_params))\n",
    "print(\"f1_score на обучающем наборе: {:.2f}\".format(study.best_value))"
   ]
  },
  {
   "cell_type": "code",
   "execution_count": 92,
   "id": "931daa9b",
   "metadata": {},
   "outputs": [
    {
     "name": "stdout",
     "output_type": "stream",
     "text": [
      "accuracy на тестовом наборе: 0.75\n",
      "f1_score на тестовом наборе: 0.78\n"
     ]
    }
   ],
   "source": [
    "# рассчитаем метрику для тестовой выборки\n",
    "model = linear_model.LogisticRegression(**study.best_params,random_state=random_state)\n",
    "model.fit(X_train, y_train)\n",
    "y_train_pred = model.predict(X_train)\n",
    "print(\"accuracy на тестовом наборе: {:.2f}\".format(model.score(X_test, y_test)))\n",
    "y_test_pred = model.predict(X_test)\n",
    "print('f1_score на тестовом наборе: {:.2f}'.format(metrics.f1_score(y_test, y_test_pred)))"
   ]
  },
  {
   "attachments": {},
   "cell_type": "markdown",
   "id": "9fc3619e",
   "metadata": {
    "papermill": {
     "duration": null,
     "end_time": null,
     "exception": null,
     "start_time": null,
     "status": "pending"
    },
    "tags": []
   },
   "source": [
    "Вывод: Optuna так же не удалось увеличить метрику, но за меньшее время, чем Hyperopt."
   ]
  },
  {
   "attachments": {},
   "cell_type": "markdown",
   "id": "15a46ba1",
   "metadata": {
    "papermill": {
     "duration": null,
     "end_time": null,
     "exception": null,
     "start_time": null,
     "status": "pending"
    },
    "tags": []
   },
   "source": [
    "# Вывод"
   ]
  },
  {
   "attachments": {},
   "cell_type": "markdown",
   "id": "f59672cc",
   "metadata": {
    "papermill": {
     "duration": null,
     "end_time": null,
     "exception": null,
     "start_time": null,
     "status": "pending"
    },
    "tags": []
   },
   "source": [
    "Согласно поставленной задачи, были обучены две модели с параметрами, установленным по умолчанию (Baseline):\n",
    "* логистической регрессии;\n",
    "* модель случайного леса.  \n",
    "\n",
    "Значения метрик:  \n",
    "**LogisticRegression** f1_score на тестовом наборе: 0.78,  \n",
    "**RandomForestClassifier** f1_score на тестовом наборе: 0.74.  \n",
    "\n",
    "Далее были подобраны гиперпараметры каждой из моделей 4 способами и каждая из моделей обучена на кросс-валидации:\n",
    "* *GridSeachCV*,\n",
    "* *RandomizedSearchCV*,\n",
    "* *Hyperopt*,\n",
    "* *Optuna*. \n",
    "\n",
    "В результате:\n",
    "\n",
    "* В модели **LogisticRegression** настройки по умолчанию подобраны оптимальным образом, поэтому каждый метод поиска оптимальных гиперпараметров не показал улучшение метрики f1-score: с 0,78 увеличилась до 0,79 лишь на сетке *GridSeachCV* с подобранными наилучшиими значениями гиперпараметров: {'C': 0.3, 'penalty': 'l1', 'solver': 'saga'}.\n",
    "\n",
    "* В модели **RandomForestClassifier** настройки по умолчанию подобраны не самым оптимальным образом, поэтому каждый метод поиска оптимальных гиперпараметров показал значительное улучшение метрики f1-score: с 0,74 увеличилась до 0,80."
   ]
  }
 ],
 "metadata": {
  "kernelspec": {
   "display_name": "Python 3",
   "language": "python",
   "name": "python3"
  },
  "language_info": {
   "codemirror_mode": {
    "name": "ipython",
    "version": 3
   },
   "file_extension": ".py",
   "mimetype": "text/x-python",
   "name": "python",
   "nbconvert_exporter": "python",
   "pygments_lexer": "ipython3",
   "version": "3.9.10"
  },
  "papermill": {
   "default_parameters": {},
   "duration": 17.854267,
   "end_time": "2023-06-17T13:27:16.052479",
   "environment_variables": {},
   "exception": true,
   "input_path": "__notebook__.ipynb",
   "output_path": "__notebook__.ipynb",
   "parameters": {},
   "start_time": "2023-06-17T13:26:58.198212",
   "version": "2.4.0"
  }
 },
 "nbformat": 4,
 "nbformat_minor": 5
}
